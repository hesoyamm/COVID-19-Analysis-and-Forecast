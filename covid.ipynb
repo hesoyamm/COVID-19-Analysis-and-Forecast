#ignore the warnings
import warnings
warnings.filterwarnings('ignore')
#importing the libraries
import numpy as np
import time
import pandas as pd
import matplotlib.pyplot as plt
import matplotlib as mp
import seaborn as sns
import datetime
import matplotlib.ticker as tick
from random import randint
import statsmodels.api as sm
from sklearn.preprocessing import PolynomialFeatures
from sklearn.metrics import mean_squared_error, r2_score
from sklearn.model_selection import train_test_split
from sklearn.linear_model import LinearRegression
from sklearn.metrics import mean_squared_error, mean_absolute_error
import csv
import pylab
import mpld3
from ipywidgets import interact
from matplotlib.ticker import EngFormatter
# you will need to pip install Basemap - https://matplotlib.org/basemap/users/installing.html
from mpl_toolkits.basemap import Basemap
from geopy.geocoders import Nominatim
import folium
#Plotting the charts with plotly as well
import plotly.offline as py
from plotly.subplots import make_subplots
import plotly.graph_objects as go
from plotly import tools
import plotly.express as px
# Set notebook mode to work in offline
py.init_notebook_mode()

#Using enums for various choices
import enum

cov19_confirmed_data = pd.read_csv('../input/novel-corona-virus-2019-dataset/time_series_covid_19_confirmed.csv')
cov19_deaths_data = pd.read_csv('../input/novel-corona-virus-2019-dataset/time_series_covid_19_deaths.csv')
cov19_recoveries_data = pd.read_csv('../input/novel-corona-virus-2019-dataset/time_series_covid_19_recovered.csv')
cov19_country_data = pd.read_csv('https://raw.githubusercontent.com/CSSEGISandData/COVID-19/web-data/data/cases_country.csv')

cov19_confirmed_data.head(10)

#the shape of cov19_confirmed_data data frame
cov19_confirmed_data.shape

#  the data types of the confirmed covid-19 data frame as well
cov19_confirmed_data.dtypes
cov19_country_data.columns = map(str.lower, cov19_country_data.columns)
cov19_confirmed_data.columns = map(str.lower, cov19_confirmed_data.columns)
cov19_deaths_data.columns = map(str.lower, cov19_deaths_data.columns)
cov19_recoveries_data.columns = map(str.lower, cov19_recoveries_data.columns)

# changing province/state to state and country/region to country
cov19_confirmed_data = cov19_confirmed_data.rename(columns={'province/state': 'state', 'country/region': 'country'})
cov19_recoveries_data = cov19_recoveries_data.rename(columns={'province/state': 'state', 'country/region': 'country'})
cov19_deaths_data = cov19_deaths_data.rename(columns={'province/state': 'state', 'country/region': 'country'})
cov19_country_data = cov19_country_data.rename(columns={'country_region': 'country'})

#define some enums
class ChartPlotter(enum.Enum):
    MatPlotLib = 1
    Plotly = 2
#Visualizing the worst hit countries
sorted_cov19_country_data = cov19_country_data.sort_values('confirmed', ascending= False)
sorted_cov19_country_data
