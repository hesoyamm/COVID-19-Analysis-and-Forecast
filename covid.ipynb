{
 "cells": [
  {
   "cell_type": "code",
   "execution_count": 2,
   "metadata": {},
  
   "source": [
    "import warnings\n",
    "warnings.filterwarnings('ignore')\n",
    "#importing the libraries\n",
    "import numpy as np\n",
    "import time\n",
    "import matplotlib.pyplot as plt\n",
    "import matplotlib as mp\n",
    "import seaborn as sns\n",
    "import datetime\n",
    "import matplotlib.ticker as tick\n",
    "from random import randint\n",
    "import statsmodels.api as sm\n",
    "from sklearn.preprocessing import PolynomialFeatures\n",
    "from sklearn.metrics import mean_squared_error, r2_score\n",
    "from sklearn.model_selection import train_test_split\n",
    "from sklearn.linear_model import LinearRegression\n",
    "from sklearn.metrics import mean_squared_error, mean_absolute_error\n",
    "import csv\n",
    "import pylab\n",
    "import mpld3\n",
    "from ipywidgets import interact\n",
    "from matplotlib.ticker import EngFormatter\n",
    "# you will need to pip install Basemap - https://matplotlib.org/basemap/users/installing.html\n",
    "#from mpl_toolkits.basemap import Basemap\n",
    "from geopy.geocoders import Nominatim\n",
    "import folium\n",
    "#Plotting the charts with plotly as well\n",
    "import plotly.offline as py\n",
    "from plotly.subplots import make_subplots\n",
    "import plotly.graph_objs as go\n",
    "from plotly import tools\n",
    "import plotly.express as px\n",
    "# Set notebook mode to work in offline\n",
    "py.init_notebook_mode()\n",
    "\n",
    "#Using enums for various choices\n",
    "\n"
   ]
  },
  {
   "cell_type": "code",
   "execution_count": null,
   "metadata": {},
   "outputs": [],
   "source": [
    "from enum import Enum"
   ]
  },
  {
   "cell_type": "code",
   "execution_count": null,
   "metadata": {},
   "outputs": [],
   "source": [
    "pip install ipywidgets"
   ]
  },
  {
   "cell_type": "code",
   "execution_count": null,
   "metadata": {},
   "outputs": [],
   "source": [
    "import pandas as pd"
   ]
  },
  {
   "cell_type": "code",
   "execution_count": null,
   "metadata": {},
   "outputs": [],
   "source": [
    "pip install mpld3"
   ]
  },
  {
   "cell_type": "code",
   "execution_count": null,
   "metadata": {},
   "outputs": [],
   "source": [
    "pip install basemap\n"
   ]
  },
  {
   "cell_type": "code",
   "execution_count": null,
   "metadata": {},
   "outputs": [],
   "source": [
    "pip install geopy"
   ]
  },
  {
   "cell_type": "code",
   "execution_count": null,
   "metadata": {},
   "outputs": [],
   "source": [
    "###Confirmed COVID-19, Recovered COVID-19, Fatalities COVID-19 cases and Country wise COVID-19 data."
   ]
  },
  {
   "cell_type": "code",
   "execution_count": null,
   "metadata": {},
   "outputs": [],
   "source": [
    "###for data_sets refer:https://www.kaggle.com/sudalairajkumar/novel-corona-virus-2019-dataset?select=time_series_covid_19_deaths.csv\n",
    "\n",
    "##here datasets are periodically updated"
   ]
  },
  {
   "cell_type": "code",
   "execution_count": null,
   "metadata": {},
   "outputs": [],
   "source": [
    "cov19_confirmed_data = pd.read_csv('time_series_covid_19_confirmed.csv')"
   ]
  },
  {
   "cell_type": "code",
   "execution_count": null,
   "metadata": {},
   "outputs": [],
   "source": [
    "cov19_deaths_data = pd.read_csv('time_series_covid_19_deaths.csv')"
   ]
  },
  {
   "cell_type": "code",
   "execution_count": null,
   "metadata": {},
   "outputs": [],
   "source": [
    "cov19_recoveries_data = pd.read_csv('time_series_covid_19_recovered.csv')"
   ]
  },
  {
   "cell_type": "code",
   "execution_count": null,
   "metadata": {},
   "outputs": [],
   "source": [
    "cov19_country_data = pd.read_csv('cases_country.csv')"
   ]
  },
  {
   "cell_type": "code",
   "execution_count": null,
   "metadata": {},
   "outputs": [],
   "source": [
    "##The structure of cov19_confirmed_data, cov19_deaths_data, cov19_recoveries_data is same and they store the confirmed, recovered and death cases in each country’s province/state respectively. Countries are in alphabetical order."
   ]
  },
  {
   "cell_type": "code",
   "execution_count": 3,
   "metadata": {},
   "outputs": [],
   "source": [
    "# the shape of cov19_confirmed_data data framepip install enuma"
   ]
  },
  {
   "cell_type": "code",
   "execution_count": 4,
  
   "source": [
    "# lets explore the data types of the confirmed covid-19 data frame as well\n",
    "cov19_confirmed_data.dtypes"
   ]
  },
  {
   "cell_type": "code",
   "execution_count": 5,
   "metadata": {},
   
   "source": [
    "# Lets rename and clean the data frame\n",
    "cov19_country_data.columns = map(str.lower, cov19_country_data.columns)\n",
    "cov19_confirmed_data.columns = map(str.lower, cov19_confirmed_data.columns)\n",
    "cov19_deaths_data.columns = map(str.lower, cov19_deaths_data.columns)\n",
    "cov19_recoveries_data.columns = map(str.lower, cov19_recoveries_data.columns)\n",
    "\n",
    "# changing province/state to state and country/region to country\n",
    "cov19_confirmed_data = cov19_confirmed_data.rename(columns={'province/state': 'state', 'country/region': 'country'})\n",
    "cov19_recoveries_data = cov19_recoveries_data.rename(columns={'province/state': 'state', 'country/region': 'country'})\n",
    "cov19_deaths_data = cov19_deaths_data.rename(columns={'province/state': 'state', 'country/region': 'country'})\n",
    "cov19_country_data = cov19_country_data.rename(columns={'country_region': 'country'})\n",
    "\n",
    "#define some enums, especially in this case exploring plotly and matplotlib\n"
   ]
  },
  {
   "cell_type": "code",
   "execution_count": null,
   "metadata": {},
   "outputs": [],
   "source": []
  },
  {
   "cell_type": "code",
   "execution_count": 6,
   "metadata": {},
  
   "source": [
    "cov19_country_data.dtypes"
   ]
  },
  {
   "cell_type": "code",
   "execution_count": 7,
   "metadata": {},
   "outputs": [],
   "source": [
    "###### WORST HIT COUNTRIES"
   ]
  },
  {
   "cell_type": "code",
   "execution_count": 8,
   "metadata": {},
   
   "source": [
    "sorted_cov19_country_data = cov19_country_data.sort_values('confirmed', ascending= False)\n",
    "sorted_cov19_country_data"
   ]
  },
  {
   "cell_type": "code",
   "execution_count": 1,
   "metadata": {},
   
   "source": [
    "\n",
    "n = 30\n",
    "onlyLimitedData_df = sorted_cov19_country_data.head(n)\n",
    "\n",
    "fig = go.Figure(data=[go.Table(\n",
    "    header = dict(\n",
    "    values = list(onlyLimitedData_df.columns),\n",
    "    line_color='whitesmoke',\n",
    "    fill_color='royalblue',\n",
    "    align=['left','center'],\n",
    "    font=dict(color='white', size=13),\n",
    "    height=30\n",
    "  ),\n",
    "  cells=dict(\n",
    "    values=[onlyLimitedData_df.country,\n",
    "            onlyLimitedData_df.last_update,\n",
    "            onlyLimitedData_df.people_tested,\n",
    "            onlyLimitedData_df.people_hospitalized,\n",
    "            onlyLimitedData_df.lat,\n",
    "            onlyLimitedData_df.long_,\n",
    "            onlyLimitedData_df.confirmed,\n",
    "            onlyLimitedData_df.deaths,\n",
    "            onlyLimitedData_df.recovered,\n",
    "            onlyLimitedData_df.active,\n",
    "            onlyLimitedData_df.incident_rate,\n",
    "            onlyLimitedData_df.mortality_rate,\n",
    "            onlyLimitedData_df.uid,\n",
    "            onlyLimitedData_df.iso3],\n",
    "      line_color='whitesmoke',\n",
    "      fill=dict(color=['royalblue', 'black','black','black','orange','red','green','grey','grey','grey','grey','grey','grey','grey']),\n",
    "      align=['left', 'center'],\n",
    "      font=dict(color='white', size=13),\n",
    "      height=15)\n",
    "    )\n",
    "])\n",
    "fig.show()"
   ]
  },
  {
   "cell_type": "code",
   "execution_count": null,
   "metadata": {},
   "outputs": [],
   "source": []
  }
 ],
 "metadata": {
  "kernelspec": {
   "display_name": "Python 3",
   "language": "python",
   "name": "python3"
  },
  "language_info": {
   "codemirror_mode": {
    "name": "ipython",
    "version": 3
   },
   "file_extension": ".py",
   "mimetype": "text/x-python",
   "name": "python",
   "nbconvert_exporter": "python",
   "pygments_lexer": "ipython3",
   "version": "3.8.3"
  }
 },
 "nbformat": 4,
 "nbformat_minor": 4
}
